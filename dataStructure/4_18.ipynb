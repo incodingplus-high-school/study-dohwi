{
 "cells": [
  {
   "cell_type": "code",
   "execution_count": 31,
   "metadata": {},
   "outputs": [
    {
     "name": "stdout",
     "output_type": "stream",
     "text": [
      "모음\n"
     ]
    }
   ],
   "source": [
    "def find(str, v = 0):\n",
    "    vowel = ['a','e','i','o','u']\n",
    "    if len(str) == 0:\n",
    "        if v > 0:\n",
    "            print('모음')\n",
    "            return\n",
    "        elif v < 0:\n",
    "            print('자음')\n",
    "            return\n",
    "        else:\n",
    "            print('같음')\n",
    "            return\n",
    "    elif str[0] in vowel:\n",
    "        find(str[1:], v + 1)\n",
    "    else:\n",
    "        find(str[1:], v - 1)\n",
    "find('adakakakakakaaaakakaaaa')\n"
   ]
  },
  {
   "cell_type": "markdown",
   "metadata": {},
   "source": []
  }
 ],
 "metadata": {
  "kernelspec": {
   "display_name": "Python 3",
   "language": "python",
   "name": "python3"
  },
  "language_info": {
   "name": "python",
   "version": "3.11.1"
  },
  "orig_nbformat": 4,
  "vscode": {
   "interpreter": {
    "hash": "1d42a4fd88a2ab5ba2a93520124d60f637055456e509916308a043028a67e448"
   }
  }
 },
 "nbformat": 4,
 "nbformat_minor": 2
}
